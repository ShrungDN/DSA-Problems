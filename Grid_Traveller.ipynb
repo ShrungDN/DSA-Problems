{
 "cells": [
  {
   "cell_type": "code",
   "execution_count": 1,
   "id": "53b79486-5115-43af-a820-f74ee2cf6291",
   "metadata": {},
   "outputs": [
    {
     "data": {
      "text/plain": [
       "2704156"
      ]
     },
     "execution_count": 1,
     "metadata": {},
     "output_type": "execute_result"
    }
   ],
   "source": [
    "# Number of ways of travelling m x n grid from top left to bottom right\n",
    "\n",
    "# Normal method\n",
    "\n",
    "def grid(m, n):\n",
    "    if m == 1 and n == 1:\n",
    "        return 1\n",
    "    if m == 0 or n == 0:\n",
    "        return 0\n",
    "    return grid(m-1, n) + grid(m, n-1)\n",
    "\n",
    "grid(13,13) "
   ]
  },
  {
   "cell_type": "code",
   "execution_count": 2,
   "id": "a354092e-a12b-4803-a81e-6bce91d252be",
   "metadata": {},
   "outputs": [
    {
     "data": {
      "text/plain": [
       "2704156"
      ]
     },
     "execution_count": 2,
     "metadata": {},
     "output_type": "execute_result"
    }
   ],
   "source": [
    "# Memoization \n",
    "\n",
    "def grid2_calc(m, n, memo):\n",
    "    if ((m, n) in memo):\n",
    "        return memo[(m, n)]\n",
    "    if m == 1 and n == 1:\n",
    "        return 1\n",
    "    if m == 0 or n == 0:\n",
    "        return 0 \n",
    "    memo[(m, n)] = grid2_calc(m-1, n, memo) + grid2_calc(m, n-1, memo)\n",
    "#     print(memo)\n",
    "    return memo[(m, n)]\n",
    "    \n",
    "    \n",
    "def grid2(m, n):\n",
    "    memo = {}\n",
    "    return grid2_calc(m, n, memo)\n",
    "\n",
    "grid2(13, 13)"
   ]
  },
  {
   "cell_type": "code",
   "execution_count": 3,
   "id": "1633c81c-cfb8-4e47-9bf1-867fa9ded3ca",
   "metadata": {},
   "outputs": [
    {
     "data": {
      "text/plain": [
       "67639699936295437816720393800294112987025027138775847599447666443099456633013562036689810791917510051392043564820206732933485923436106085472946501426305924780697068134072005344385001020955427263354498038318192593736497744183255225354004252807664352444173137288072287938559666694018244710660615920000"
      ]
     },
     "execution_count": 3,
     "metadata": {},
     "output_type": "execute_result"
    }
   ],
   "source": [
    "# Memoization 2\n",
    "\n",
    "def grid3(m, n, memo = {}):\n",
    "    if ((m, n) in memo):\n",
    "        return memo[(m, n)]\n",
    "    if m == 1 and n == 1:\n",
    "        return 1\n",
    "    if m == 0 or n == 0:\n",
    "        return 0 \n",
    "    memo[(m, n)] = grid3(m-1, n, memo) + grid3(m, n-1, memo)\n",
    "#     print(memo)\n",
    "    return memo[(m, n)]\n",
    "\n",
    "grid3(500, 500)"
   ]
  }
 ],
 "metadata": {
  "kernelspec": {
   "display_name": "Python 3 (ipykernel)",
   "language": "python",
   "name": "python3"
  },
  "language_info": {
   "codemirror_mode": {
    "name": "ipython",
    "version": 3
   },
   "file_extension": ".py",
   "mimetype": "text/x-python",
   "name": "python",
   "nbconvert_exporter": "python",
   "pygments_lexer": "ipython3",
   "version": "3.8.10"
  }
 },
 "nbformat": 4,
 "nbformat_minor": 5
}
