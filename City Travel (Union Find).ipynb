{
 "cells": [
  {
   "cell_type": "code",
   "execution_count": 1,
   "id": "34674dbc",
   "metadata": {},
   "outputs": [],
   "source": [
    "# Union Find or Disjoint Set along with Path Compression\n",
    "\n",
    "class UnionFind:\n",
    "    def __init__(self, size):\n",
    "        if size <= 0:\n",
    "            print(\"Size should be greater than 0\")\n",
    "        self.size = size\n",
    "        self.numComponents = size\n",
    "        self.sz = [1 for i in range(self.size)]\n",
    "        self.id = [i for i in range(self.size)]\n",
    "        \n",
    "    def find(self, p): # Find root node\n",
    "        root = p\n",
    "        while root != self.id[root]:\n",
    "            root = self.id[root]\n",
    "        \n",
    "        # Path Compression\n",
    "        while p != root:\n",
    "            next_node = self.id[p]\n",
    "            self.id[p] = root\n",
    "            p = next_node\n",
    "        \n",
    "        return root\n",
    "    \n",
    "    def union(self, p, q):\n",
    "        root1 = self.find(p)\n",
    "        root2 = self.find(q)\n",
    "        \n",
    "        if root1 == root2:\n",
    "            return\n",
    "        \n",
    "        if self.sz[root1] < self.sz[root2]:\n",
    "            self.sz[root2] += self.sz[root1]\n",
    "            self.id[root1] = root2\n",
    "        else:\n",
    "            self.sz[root1] += self.sz[root2]\n",
    "            self.id[root2] = root1\n",
    "            \n",
    "        self.numComponents -= 1\n",
    "        \n",
    "    \n",
    "    def connected(self, p, q):\n",
    "        return self.find(p) == self.find(q)\n",
    "    \n",
    "    def componentsize(self, p): # Number of nodes connected to p (number of nodes in the cluster p belongs to)\n",
    "        return self.sz[self.find(p)]\n",
    "    \n",
    "    def getsize(self):\n",
    "        return self.size\n",
    "    \n",
    "    def components(self):\n",
    "        return self.numComponents"
   ]
  },
  {
   "cell_type": "code",
   "execution_count": 2,
   "id": "cd162846",
   "metadata": {},
   "outputs": [],
   "source": [
    "# City Travel:\n",
    "\n",
    "# Two cities connected if they have gcd greater than threshold\n",
    "# Can a person travel to destination from a city \n",
    "\n",
    "num_cities = 6\n",
    "threshold = 1\n",
    "origin = [1, 2, 4, 6]\n",
    "destination = [3, 3, 3, 4]\n",
    "\n",
    "# Output should be [0, 1, 1, 1] for: \n",
    "# num_cities = 6\n",
    "# threshold = 1\n",
    "# origin = [1, 2, 4, 6]\n",
    "# destination = [3, 3, 3, 4]"
   ]
  },
  {
   "cell_type": "code",
   "execution_count": 3,
   "id": "6644dd8f",
   "metadata": {},
   "outputs": [],
   "source": [
    "def gcd(a, b):\n",
    "    if a == 0:\n",
    "        return b\n",
    "    else:\n",
    "        return gcd(b%a, a)"
   ]
  },
  {
   "cell_type": "code",
   "execution_count": 4,
   "id": "b35e73dc",
   "metadata": {},
   "outputs": [
    {
     "name": "stdout",
     "output_type": "stream",
     "text": [
      "[0, 1, 1, 1]\n"
     ]
    }
   ],
   "source": [
    "# 1 corresponds to 0, 2 to 1 etc in UnionFind, can use dictionary to get other type of correspondence \n",
    "linked_cities = UnionFind(num_cities+1)\n",
    "for i in range(1, num_cities+1):\n",
    "    for j in range(i+1, num_cities+1):\n",
    "        if gcd(i, j) > threshold:\n",
    "            linked_cities.union(i,j)\n",
    "            \n",
    "output = [1 if linked_cities.connected(origin[i], destination[i]) else 0 for i in range(len(origin))]   \n",
    "print(output)"
   ]
  }
 ],
 "metadata": {
  "kernelspec": {
   "display_name": "Python 3 (ipykernel)",
   "language": "python",
   "name": "python3"
  },
  "language_info": {
   "codemirror_mode": {
    "name": "ipython",
    "version": 3
   },
   "file_extension": ".py",
   "mimetype": "text/x-python",
   "name": "python",
   "nbconvert_exporter": "python",
   "pygments_lexer": "ipython3",
   "version": "3.8.10"
  }
 },
 "nbformat": 4,
 "nbformat_minor": 5
}
