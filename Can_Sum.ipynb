{
 "cells": [
  {
   "cell_type": "code",
   "execution_count": 1,
   "id": "565f00e4-977f-4da7-9f36-204cf0598efb",
   "metadata": {},
   "outputs": [
    {
     "name": "stdout",
     "output_type": "stream",
     "text": [
      "False\n",
      "True\n"
     ]
    }
   ],
   "source": [
    "# canSum(target, [numbers]) -> true if any combinations of number addition in [numbers] results in target\n",
    "# [numbers] is list of non negative numbers \n",
    "# canSum(7, [2, 3, 4, 7] -> True\n",
    "# canSum(7, [2, 3, 5, 6] -> False\n",
    "# https://www.youtube.com/watch?v=oBt53YbR9Kk&t=3647s\n",
    "\n",
    "def canSum(target, numbers):\n",
    "    if target == 0:\n",
    "        return True \n",
    "    if target < 0:\n",
    "        return False \n",
    "#     result = False\n",
    "    for num in numbers:\n",
    "#         result = result or canSum(target-num, numbers)\n",
    "#     return result \n",
    "        if canSum(target-num, numbers):\n",
    "            return True \n",
    "    return False\n",
    "\n",
    "print(canSum(51, [2,4]))\n",
    "print(canSum(51, [2,5]))"
   ]
  },
  {
   "cell_type": "code",
   "execution_count": 2,
   "id": "1ebd9f53-e347-478c-9678-610348097028",
   "metadata": {},
   "outputs": [
    {
     "name": "stdout",
     "output_type": "stream",
     "text": [
      "False\n",
      "True\n"
     ]
    }
   ],
   "source": [
    "def canSum2(target, numbers, memo={}):\n",
    "    if (target in memo):\n",
    "        return memo[target]\n",
    "    if target == 0:\n",
    "        return True \n",
    "    if target < 0:\n",
    "        return False \n",
    "    result = False\n",
    "    for num in numbers:\n",
    "        result = result or canSum2(target-num, numbers, memo)\n",
    "    memo[target] = result \n",
    "    return memo[target]\n",
    "    \n",
    "#         if canSum2(target-num, numbers, memo):\n",
    "#             memo[target] = True\n",
    "#             return memo[target]\n",
    "#     memo[target] = False  \n",
    "\n",
    "# Pass an empty dict initially, or else the error as showin in following cells will happen\n",
    "# Basically the memo won't be empty when called the next time, so wrong result. So send empty memo initially \n",
    "print(canSum2(51, [2,4],{}))\n",
    "print(canSum2(51, [2,5],{}))"
   ]
  },
  {
   "cell_type": "code",
   "execution_count": 3,
   "id": "c02313a3-514f-468e-bf6a-05a34c5616f7",
   "metadata": {},
   "outputs": [
    {
     "name": "stdout",
     "output_type": "stream",
     "text": [
      "[]\n",
      "[1]\n",
      "[1, 1]\n",
      "[1, 1, 1]\n",
      "[1, 1, 1, 1]\n",
      "[1, 1, 1, 1, 1]\n",
      "'a' doesn't exist outside function\n"
     ]
    }
   ],
   "source": [
    "def test(i=1,a=[]):\n",
    "    print(a)\n",
    "    a.append(1)\n",
    "    if i==1:\n",
    "        test(2,a)\n",
    "test()\n",
    "test()\n",
    "test()\n",
    "\n",
    "try:\n",
    "    print(a)\n",
    "except:\n",
    "    print(\"'a' doesn't exist outside function\")"
   ]
  },
  {
   "cell_type": "code",
   "execution_count": 4,
   "id": "bc2d0574",
   "metadata": {},
   "outputs": [
    {
     "name": "stdout",
     "output_type": "stream",
     "text": [
      "[]\n",
      "[1]\n",
      "[]\n",
      "[1]\n",
      "[]\n",
      "[1]\n"
     ]
    }
   ],
   "source": [
    "# Pass like this\n",
    "test(a=[])\n",
    "test(a=[])\n",
    "test(a=[])"
   ]
  },
  {
   "cell_type": "code",
   "execution_count": null,
   "id": "0790b8a8",
   "metadata": {},
   "outputs": [],
   "source": []
  }
 ],
 "metadata": {
  "kernelspec": {
   "display_name": "Python 3 (ipykernel)",
   "language": "python",
   "name": "python3"
  },
  "language_info": {
   "codemirror_mode": {
    "name": "ipython",
    "version": 3
   },
   "file_extension": ".py",
   "mimetype": "text/x-python",
   "name": "python",
   "nbconvert_exporter": "python",
   "pygments_lexer": "ipython3",
   "version": "3.8.10"
  }
 },
 "nbformat": 4,
 "nbformat_minor": 5
}
