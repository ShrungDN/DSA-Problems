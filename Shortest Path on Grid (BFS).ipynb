{
 "cells": [
  {
   "cell_type": "code",
   "execution_count": 1,
   "id": "315995fe",
   "metadata": {},
   "outputs": [],
   "source": [
    "# BFS - Breadth First Search\n",
    "\n",
    "# 1 are non traversable \n",
    "grid = [[0 , 0 , 0 , 1 , 0 , 0 , 0],\n",
    "        [0 , 1 , 0 , 0 , 0 , 1 , 0],\n",
    "        [0 , 1 , 0 , 0 , 0 , 0 , 0],\n",
    "        [0 , 0 , 1 , 1 , 0 , 0 , 0],\n",
    "        [1 , 0 , 1 , 0 , 0 , 1 , 0]]\n",
    "\n",
    "# s = start, e = end\n",
    "sr, sc = 0, 0\n",
    "er, ec = 4, 3"
   ]
  },
  {
   "cell_type": "code",
   "execution_count": 2,
   "id": "a77704a0",
   "metadata": {},
   "outputs": [],
   "source": [
    "class queue:\n",
    "    \n",
    "    def __init__(self):\n",
    "        self.val = []\n",
    "    \n",
    "    def enqueue(self, value):\n",
    "        self.val.append(value)\n",
    "\n",
    "    def dequeue(self):\n",
    "        return self.val.pop(0)\n",
    "    \n",
    "    def display(self):\n",
    "        print(self.val)"
   ]
  },
  {
   "cell_type": "code",
   "execution_count": 3,
   "id": "52a8ed51",
   "metadata": {},
   "outputs": [],
   "source": [
    "def solve(grid, sr, sc, er, ec):\n",
    "    \n",
    "    # Direction vectors\n",
    "    dr = [1, -1, 0, 0]\n",
    "    dc = [0, 0, 1, -1]\n",
    "    \n",
    "    assert grid[sr][sc] == 0\n",
    "    assert grid[er][ec] == 0\n",
    "    \n",
    "    rows = len(grid)\n",
    "    cols = len(grid[0])\n",
    "    \n",
    "    rq = queue()\n",
    "    cq = queue()\n",
    "    \n",
    "    move_count = 0\n",
    "    nodes_left_in_layer = 1\n",
    "    nodes_in_next_layer = 0\n",
    "    \n",
    "    reached_end = False\n",
    "    \n",
    "    visited = [[False] * cols for _ in range(rows)]    \n",
    "    \n",
    "    rq.enqueue(sr)\n",
    "    cq.enqueue(sc)\n",
    "\n",
    "    visited[sr][sc] = True\n",
    "    \n",
    "    while len(rq.val) > 0:\n",
    "        r = rq.dequeue()\n",
    "        c = cq.dequeue()\n",
    "        nodes_left_in_layer -= 1\n",
    "        \n",
    "        if r == er and c == ec:\n",
    "            reached_end = True \n",
    "            break\n",
    "            \n",
    "        # Exploring neighbours\n",
    "        for i in range(0, 4):\n",
    "            rr = r + dr[i]\n",
    "            cc = c + dc[i]\n",
    "        \n",
    "            if rr < 0 or cc < 0:\n",
    "                continue\n",
    "            if rr >= rows or cc >= cols:\n",
    "                continue \n",
    "        \n",
    "            if visited[rr][cc] == True:\n",
    "                continue\n",
    "            if grid[rr][cc] == 1:\n",
    "                continue \n",
    "        \n",
    "            rq.enqueue(rr)\n",
    "            cq.enqueue(cc)\n",
    "            visited[rr][cc] = True \n",
    "            nodes_in_next_layer += 1\n",
    "            \n",
    "        if nodes_left_in_layer == 0:\n",
    "            nodes_left_in_layer = nodes_in_next_layer\n",
    "            nodes_in_next_layer = 0\n",
    "            move_count += 1\n",
    "        \n",
    "    if reached_end:\n",
    "        return move_count\n",
    "    else:\n",
    "        return -1"
   ]
  },
  {
   "cell_type": "code",
   "execution_count": 4,
   "id": "7fdc1943",
   "metadata": {},
   "outputs": [
    {
     "name": "stdout",
     "output_type": "stream",
     "text": [
      "9\n"
     ]
    }
   ],
   "source": [
    "print(solve(grid, sr, sc, er, ec))"
   ]
  }
 ],
 "metadata": {
  "kernelspec": {
   "display_name": "Python 3 (ipykernel)",
   "language": "python",
   "name": "python3"
  },
  "language_info": {
   "codemirror_mode": {
    "name": "ipython",
    "version": 3
   },
   "file_extension": ".py",
   "mimetype": "text/x-python",
   "name": "python",
   "nbconvert_exporter": "python",
   "pygments_lexer": "ipython3",
   "version": "3.8.10"
  }
 },
 "nbformat": 4,
 "nbformat_minor": 5
}
