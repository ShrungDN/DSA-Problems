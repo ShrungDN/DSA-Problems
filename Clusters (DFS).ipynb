{
 "cells": [
  {
   "cell_type": "code",
   "execution_count": 1,
   "id": "afaaae18",
   "metadata": {},
   "outputs": [],
   "source": [
    "# 1's next to each other (according to the mode specified) belong to the same cluster\n",
    "# modes:\n",
    "# 1: HORIZONTAL (ignore vertically connected 1's. Only 1's that are horizontally connected are of same cluster)\n",
    "# 2: VERTICAL\n",
    "# 3: DIAGONAL \n",
    "# 4: HORIZONTAL_VERTICAL\n",
    "# 5: HORIZONTAL_VERTICAL_DIAGONAL\n",
    "\n",
    "grid = [[1, 0, 0, 0, 1],\n",
    "        [0, 1, 0, 1, 0],\n",
    "        [0, 1, 1, 1, 0],\n",
    "        [0, 1, 0, 1, 0],\n",
    "        [1, 0, 0, 0, 1]]"
   ]
  },
  {
   "cell_type": "code",
   "execution_count": 2,
   "id": "30ced412",
   "metadata": {},
   "outputs": [],
   "source": [
    "def dfs(r, c, dr, dc, grid, visited, count, cluster):\n",
    "    visited[r][c] = True\n",
    "    cluster[r][c] = count\n",
    "    \n",
    "    rows = len(grid)\n",
    "    cols = len(grid[0])\n",
    "    \n",
    "    # getting neighbours    \n",
    "    for i in range(len(dr)):\n",
    "        rr = r + dr[i]\n",
    "        cc = c + dc[i]\n",
    "        \n",
    "        if rr < 0 or cc < 0:\n",
    "            continue \n",
    "        if rr >= rows or cc >= cols:\n",
    "            continue \n",
    "        \n",
    "        if grid[rr][cc] == 1 and not visited[rr][cc]:\n",
    "            dfs(rr, cc, dr, dc, grid, visited, count, cluster)\n",
    "    \n",
    "    \n",
    "def find_num_cluster(grid, mode):\n",
    "    if mode == 1:\n",
    "        dr = [0, 0]\n",
    "        dc = [1, -1]\n",
    "    elif mode == 2:\n",
    "        dr = [1, -1]\n",
    "        dc = [0, 0]\n",
    "    elif mode == 3:\n",
    "        dr = [1, 1, -1, -1]\n",
    "        dc = [1, -1, 1, -1]\n",
    "    elif mode == 4:\n",
    "        dr = [0, 0, 1, -1]\n",
    "        dc = [1, -1, 0, 0]\n",
    "    elif mode == 5:\n",
    "        dr = [0, 0, 1, -1, 1, 1, -1, -1]\n",
    "        dc = [1, -1, 0, 0, 1, -1, 1, -1]\n",
    "    else:\n",
    "        print(\"invalid mode\")\n",
    "        return \n",
    "    \n",
    "    rows = len(grid)\n",
    "    cols = len(grid[0])\n",
    "    \n",
    "    count = 0\n",
    "    visited = [[False] * cols for _ in range(rows)]\n",
    "    cluster = [[0] * cols for _ in range(rows)]\n",
    "    \n",
    "    for r in range(rows):\n",
    "        for c in range(cols):\n",
    "            if grid[r][c] == 1 and not visited[r][c]:\n",
    "                count += 1\n",
    "                dfs(r, c, dr, dc, grid, visited, count, cluster)\n",
    "    print(count)\n",
    "    return cluster"
   ]
  },
  {
   "cell_type": "code",
   "execution_count": 3,
   "id": "84d75b12",
   "metadata": {},
   "outputs": [
    {
     "name": "stdout",
     "output_type": "stream",
     "text": [
      "9\n"
     ]
    },
    {
     "data": {
      "text/plain": [
       "[[1, 0, 0, 0, 2],\n",
       " [0, 3, 0, 4, 0],\n",
       " [0, 5, 5, 5, 0],\n",
       " [0, 6, 0, 7, 0],\n",
       " [8, 0, 0, 0, 9]]"
      ]
     },
     "execution_count": 3,
     "metadata": {},
     "output_type": "execute_result"
    }
   ],
   "source": [
    "find_num_cluster(grid, 1)"
   ]
  },
  {
   "cell_type": "code",
   "execution_count": 4,
   "id": "143a6b3b",
   "metadata": {},
   "outputs": [
    {
     "name": "stdout",
     "output_type": "stream",
     "text": [
      "7\n"
     ]
    },
    {
     "data": {
      "text/plain": [
       "[[1, 0, 0, 0, 2],\n",
       " [0, 3, 0, 4, 0],\n",
       " [0, 3, 5, 4, 0],\n",
       " [0, 3, 0, 4, 0],\n",
       " [6, 0, 0, 0, 7]]"
      ]
     },
     "execution_count": 4,
     "metadata": {},
     "output_type": "execute_result"
    }
   ],
   "source": [
    "find_num_cluster(grid, 2)"
   ]
  },
  {
   "cell_type": "code",
   "execution_count": 5,
   "id": "06ff823b",
   "metadata": {},
   "outputs": [
    {
     "name": "stdout",
     "output_type": "stream",
     "text": [
      "3\n"
     ]
    },
    {
     "data": {
      "text/plain": [
       "[[1, 0, 0, 0, 1],\n",
       " [0, 1, 0, 1, 0],\n",
       " [0, 2, 1, 3, 0],\n",
       " [0, 1, 0, 1, 0],\n",
       " [1, 0, 0, 0, 1]]"
      ]
     },
     "execution_count": 5,
     "metadata": {},
     "output_type": "execute_result"
    }
   ],
   "source": [
    "find_num_cluster(grid, 3)"
   ]
  },
  {
   "cell_type": "code",
   "execution_count": 6,
   "id": "25c29a33",
   "metadata": {},
   "outputs": [
    {
     "name": "stdout",
     "output_type": "stream",
     "text": [
      "5\n"
     ]
    },
    {
     "data": {
      "text/plain": [
       "[[1, 0, 0, 0, 2],\n",
       " [0, 3, 0, 3, 0],\n",
       " [0, 3, 3, 3, 0],\n",
       " [0, 3, 0, 3, 0],\n",
       " [4, 0, 0, 0, 5]]"
      ]
     },
     "execution_count": 6,
     "metadata": {},
     "output_type": "execute_result"
    }
   ],
   "source": [
    "find_num_cluster(grid, 4)"
   ]
  },
  {
   "cell_type": "code",
   "execution_count": 7,
   "id": "d7be5c0f",
   "metadata": {},
   "outputs": [
    {
     "name": "stdout",
     "output_type": "stream",
     "text": [
      "1\n"
     ]
    },
    {
     "data": {
      "text/plain": [
       "[[1, 0, 0, 0, 1],\n",
       " [0, 1, 0, 1, 0],\n",
       " [0, 1, 1, 1, 0],\n",
       " [0, 1, 0, 1, 0],\n",
       " [1, 0, 0, 0, 1]]"
      ]
     },
     "execution_count": 7,
     "metadata": {},
     "output_type": "execute_result"
    }
   ],
   "source": [
    "find_num_cluster(grid, 5)"
   ]
  }
 ],
 "metadata": {
  "kernelspec": {
   "display_name": "Python 3 (ipykernel)",
   "language": "python",
   "name": "python3"
  },
  "language_info": {
   "codemirror_mode": {
    "name": "ipython",
    "version": 3
   },
   "file_extension": ".py",
   "mimetype": "text/x-python",
   "name": "python",
   "nbconvert_exporter": "python",
   "pygments_lexer": "ipython3",
   "version": "3.8.10"
  }
 },
 "nbformat": 4,
 "nbformat_minor": 5
}
