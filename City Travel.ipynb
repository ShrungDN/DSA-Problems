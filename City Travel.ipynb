{
 "cells": [
  {
   "cell_type": "code",
   "execution_count": 1,
   "id": "d51e4f46",
   "metadata": {},
   "outputs": [],
   "source": [
    "# Two cities connected if they have gcd greater than threshold\n",
    "# Can a person travel to destination from a city \n",
    "\n",
    "num_cities = 6\n",
    "threshold = 1\n",
    "origin = [1, 2, 4, 6]\n",
    "destination = [3, 3, 3, 4]\n",
    "\n",
    "# Output should be [0, 1, 1, 1] for: \n",
    "# num_cities = 6\n",
    "# threshold = 1\n",
    "# origin = [1, 2, 4, 6]\n",
    "# destination = [3, 3, 3, 4]"
   ]
  },
  {
   "cell_type": "code",
   "execution_count": 2,
   "id": "d8c4a369",
   "metadata": {},
   "outputs": [],
   "source": [
    "def gcd(a, b):\n",
    "    if a == 0:\n",
    "        return b\n",
    "    else:\n",
    "        return gcd(b%a, a)\n",
    "\n",
    "def visit(i, visited, link):\n",
    "    visited[i] = True   \n",
    "    for city in link[i]:\n",
    "        if not visited[city]:\n",
    "            visit(city, visited, link)\n",
    "    \n",
    "def indirect_links(link):\n",
    "    for i in range(1, num_cities+1):\n",
    "        visited = [False] * (num_cities+1)\n",
    "        visit(i, visited, link)\n",
    "        new_link = [p for p in range(1,num_cities+1) if visited[p]]\n",
    "        link[i] = new_link"
   ]
  },
  {
   "cell_type": "code",
   "execution_count": 3,
   "id": "0bb91af8",
   "metadata": {},
   "outputs": [],
   "source": [
    "link = [[] for _ in range(num_cities + 1)]\n",
    "# Direct cities\n",
    "for i in range(1, num_cities+1):\n",
    "    for j in range(1, num_cities+1):\n",
    "        if gcd(i, j) > threshold and j not in link[i]:\n",
    "            link[i].append(j)  \n",
    "indirect_links(link)"
   ]
  },
  {
   "cell_type": "code",
   "execution_count": 4,
   "id": "73065b41",
   "metadata": {},
   "outputs": [
    {
     "name": "stdout",
     "output_type": "stream",
     "text": [
      "[[], [1], [2, 3, 4, 6], [2, 3, 4, 6], [2, 3, 4, 6], [5], [2, 3, 4, 6]]\n"
     ]
    }
   ],
   "source": [
    "print(link)"
   ]
  },
  {
   "cell_type": "code",
   "execution_count": 5,
   "id": "adc1fecc",
   "metadata": {},
   "outputs": [
    {
     "name": "stdout",
     "output_type": "stream",
     "text": [
      "[0, 1, 1, 1]\n"
     ]
    }
   ],
   "source": [
    "output = []\n",
    "for i in range(len(origin)):\n",
    "    if destination[i] in link[origin[i]]:\n",
    "        output.append(1)\n",
    "    else:\n",
    "        output.append(0)\n",
    "print(output)"
   ]
  }
 ],
 "metadata": {
  "kernelspec": {
   "display_name": "Python 3 (ipykernel)",
   "language": "python",
   "name": "python3"
  },
  "language_info": {
   "codemirror_mode": {
    "name": "ipython",
    "version": 3
   },
   "file_extension": ".py",
   "mimetype": "text/x-python",
   "name": "python",
   "nbconvert_exporter": "python",
   "pygments_lexer": "ipython3",
   "version": "3.8.10"
  }
 },
 "nbformat": 4,
 "nbformat_minor": 5
}
