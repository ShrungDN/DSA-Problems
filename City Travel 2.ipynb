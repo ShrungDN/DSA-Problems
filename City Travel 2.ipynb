{
 "cells": [
  {
   "cell_type": "code",
   "execution_count": 1,
   "id": "a070827c",
   "metadata": {},
   "outputs": [],
   "source": [
    "# Similar to Kruskal's algorithm\n",
    "\n",
    "# Two cities connected if they have gcd greater than threshold\n",
    "# Can a person travel to destination from a city \n",
    "\n",
    "num_cities = 6\n",
    "threshold = 1\n",
    "origin = [1, 2, 4, 6]\n",
    "destination = [3, 3, 3, 4]\n",
    "\n",
    "# Output should be [0, 1, 1, 1] for: \n",
    "# num_cities = 6\n",
    "# threshold = 1\n",
    "# origin = [1, 2, 4, 6]\n",
    "# destination = [3, 3, 3, 4]"
   ]
  },
  {
   "cell_type": "code",
   "execution_count": 2,
   "id": "4314b266",
   "metadata": {},
   "outputs": [],
   "source": [
    "def connectedCities(n, g, origin, destination):\n",
    "    if g == 0:\n",
    "        return [1] * n\n",
    "    if g >= n:\n",
    "        return [0] * n\n",
    "    \n",
    "    components = {i: i for i in range(g+1, n+1)}\n",
    "    for candidate in range(g+1, n+1):\n",
    "        current = [t * candidate for t in range(1, n // candidate + 1)]\n",
    "        current_components = [components[e] for e in current]\n",
    "        min_component_index = min(current_components)\n",
    "        for curr in current:\n",
    "            components[curr] = min_component_index\n",
    "            \n",
    "    res = []\n",
    "    for k in range(len(origin)):\n",
    "        if origin[k] > g and destination[k] > g and components[origin[k]] == components[destination[k]]:\n",
    "            res.append(1)\n",
    "        else:\n",
    "            res.append(0)\n",
    "            \n",
    "    return res"
   ]
  },
  {
   "cell_type": "code",
   "execution_count": 3,
   "id": "02776a8e",
   "metadata": {},
   "outputs": [
    {
     "name": "stdout",
     "output_type": "stream",
     "text": [
      "[0, 1, 1, 1]\n"
     ]
    }
   ],
   "source": [
    "print(connectedCities(num_cities, threshold, origin, destination))"
   ]
  }
 ],
 "metadata": {
  "kernelspec": {
   "display_name": "Python 3 (ipykernel)",
   "language": "python",
   "name": "python3"
  },
  "language_info": {
   "codemirror_mode": {
    "name": "ipython",
    "version": 3
   },
   "file_extension": ".py",
   "mimetype": "text/x-python",
   "name": "python",
   "nbconvert_exporter": "python",
   "pygments_lexer": "ipython3",
   "version": "3.8.10"
  }
 },
 "nbformat": 4,
 "nbformat_minor": 5
}
